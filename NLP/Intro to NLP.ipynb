{
 "cells": [
  {
   "cell_type": "markdown",
   "id": "23700e9c-ed68-4091-807b-930fc3912114",
   "metadata": {},
   "source": [
    "# Intro to NLP"
   ]
  },
  {
   "cell_type": "markdown",
   "id": "e6524cfb-edf7-49ac-9a91-f1e59a0cde25",
   "metadata": {},
   "source": [
    "## Using `spaCy`\n",
    "\n",
    "- Basic text processing and pattern matching\n",
    "- Building machine learning models with text\n",
    "- Representing text with word embeddings that numerically capture the meaning of words and documents"
   ]
  },
  {
   "cell_type": "markdown",
   "id": "db6d8090-b928-4126-8c4a-92cb6c412a95",
   "metadata": {},
   "source": [
    "## Text Matching"
   ]
  },
  {
   "cell_type": "code",
   "execution_count": null,
   "id": "77a81bb1-5575-40a7-a0b5-174a365ebe7b",
   "metadata": {},
   "outputs": [],
   "source": [
    "import spacy\n",
    "from spacy.matcher import PhraseMatcher\n",
    "\n",
    "index_of_review_to_test_on = 14\n",
    "text_to_test_on = data.text.iloc[index_of_review_to_test_on]\n",
    "\n",
    "# Load the SpaCy model\n",
    "nlp = spacy.blank('en')\n",
    "\n",
    "# Create the tokenized version of text_to_test_on\n",
    "review_doc = nlp(text_to_test_on)\n",
    "\n",
    "# Create the PhraseMatcher object. The tokenizer is the first argument. Use attr = 'LOWER' to make consistent capitalization\n",
    "matcher = PhraseMatcher(nlp.vocab, attr='LOWER')\n",
    "\n",
    "# Create a list of tokens for each item in the menu\n",
    "menu_tokens_list = [nlp(item) for item in menu]\n",
    "\n",
    "# Add the item patterns to the matcher. \n",
    "matcher.add(\"MENU\",            # Just a name for the set of rules we're matching to\n",
    "           menu_tokens_list  \n",
    "          )\n",
    "\n",
    "# Find matches in the review_doc\n",
    "matches = matcher(review_doc)"
   ]
  },
  {
   "cell_type": "markdown",
   "id": "93c9a190-df3f-4aef-b771-90f050dcbc5a",
   "metadata": {},
   "source": [
    "## Text Classification"
   ]
  },
  {
   "cell_type": "markdown",
   "id": "ffba10ed-964e-42f6-ba9a-38d3bcdddfc7",
   "metadata": {},
   "source": [
    "### Bag of Words"
   ]
  },
  {
   "cell_type": "markdown",
   "id": "81276b1b-90c1-4cad-9c0d-bfa235035a35",
   "metadata": {},
   "source": [
    "## Word Embeddings/Word Vectors\n",
    "Represents each word numerically in such a way that the vector corresponds to how that word is used or what it means."
   ]
  },
  {
   "cell_type": "code",
   "execution_count": null,
   "id": "6492467f-86d4-4ff4-882e-e684b3e4274a",
   "metadata": {},
   "outputs": [],
   "source": []
  }
 ],
 "metadata": {
  "kernelspec": {
   "display_name": "Python 3",
   "language": "python",
   "name": "python3"
  },
  "language_info": {
   "codemirror_mode": {
    "name": "ipython",
    "version": 3
   },
   "file_extension": ".py",
   "mimetype": "text/x-python",
   "name": "python",
   "nbconvert_exporter": "python",
   "pygments_lexer": "ipython3",
   "version": "3.8.8"
  }
 },
 "nbformat": 4,
 "nbformat_minor": 5
}
