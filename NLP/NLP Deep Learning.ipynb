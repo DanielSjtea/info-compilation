{
 "cells": [
  {
   "cell_type": "markdown",
   "id": "bcf8f91e-980a-42dc-a8db-bc1442f986a2",
   "metadata": {},
   "source": [
    "# AutoRegressive Models\n",
    "**Using any available text, predict missing words while attending to preceding words**\n",
    "- GPT\n",
    "- GPT-2\n",
    "- XLNet"
   ]
  },
  {
   "cell_type": "markdown",
   "id": "5687d68d-65be-498c-8927-1b4cc9f02e3f",
   "metadata": {},
   "source": [
    "# AutoEncoding Models\n",
    "**Using any available text, predict missing words while attending to all words**\n",
    "- BERT\n",
    "- ALBERT\n",
    "- DistilBERT\n",
    "- **RoBERTa**\n",
    "- XLM\n",
    "- XLM-RoBERTa"
   ]
  },
  {
   "cell_type": "markdown",
   "id": "553b1ad3-e284-4f57-beb4-3271b09c174a",
   "metadata": {},
   "source": [
    "# Sequence-to-Sequence Models\n",
    "- BART\n",
    "- T5"
   ]
  }
 ],
 "metadata": {
  "kernelspec": {
   "display_name": "Python 3",
   "language": "python",
   "name": "python3"
  },
  "language_info": {
   "codemirror_mode": {
    "name": "ipython",
    "version": 3
   },
   "file_extension": ".py",
   "mimetype": "text/x-python",
   "name": "python",
   "nbconvert_exporter": "python",
   "pygments_lexer": "ipython3",
   "version": "3.8.8"
  }
 },
 "nbformat": 4,
 "nbformat_minor": 5
}
