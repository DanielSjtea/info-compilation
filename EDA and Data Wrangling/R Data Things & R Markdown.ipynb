{
 "cells": [
  {
   "cell_type": "markdown",
   "metadata": {},
   "source": [
    "# Transforming Data with dplyr"
   ]
  },
  {
   "cell_type": "markdown",
   "metadata": {},
   "source": [
    "### dplyr\n",
    "\n",
    "* __Basic Operations:__\n",
    "    * `select(col_x, col_y, ...)`\n",
    "    * `filter(col_x < 6)` : filters by conditions\n",
    "    * `arrange(col_x)` : sorts by column, desc() for reverse order\n",
    "    * `mutate(new_col = col_x + col_y)` : create new variable using other columns\n",
    "    * `transmute(col_x, new_col = col_y + col_z)` : select columns and create new column\n",
    "    * `rename`\n",
    "    \n",
    "* __Aggregating:__\n",
    "    * `count(col_x, wt=intended_count_col, sort=TRUE)`\n",
    "    * `group_by(col_x, col_y)`\n",
    "    * `ungroup`\n",
    "    * `summarize(new_col=sum(col_x))`: use with aggregate functions (sum, mean, etc)\n",
    "    * `top_n`"
   ]
  },
  {
   "cell_type": "markdown",
   "metadata": {},
   "source": [
    "# R-Markdown"
   ]
  },
  {
   "cell_type": "markdown",
   "metadata": {},
   "source": [
    "### Rmd\n",
    "* __R Chunk Options:__\n",
    "    * `include`: show the R code chunk and its output\n",
    "    * `echo` : show the R code chunk\n",
    "    * `message` : show output messages\n",
    "    * `warning` : show warning messages\n",
    "    * `eval` : whether to evaluate the R code chunk\n",
    "* __R Figures (in R Code Chunks):__\n",
    "    * `fig.height`: figure height in inches\n",
    "    * `fig.width` : figure width in inches\n",
    "    * `fig.align` : 'center', 'left' or 'right' -> alignment of image\n",
    "    * `![caption](external_img_url)` : insert an external image/internal image file\n",
    "* __YAML Options:__*\n",
    "    * `html_document`:\n",
    "        * `theme` : https://bookdown.org/yihui/rmarkdown/html-document.html#appearance-and-style\n",
    "        * `highlight`: see above link\n",
    "        * `toc` : table of contents (true/false)\n",
    "        * `toc_float` : if the toc moves along as you scroll (true/false)\n",
    "        * `code_folding` : either `hide` or `show` the code chunks by default\n",
    "        * `number_sections` : add numbers to all sections\n",
    "        * `css` : reference external css file\n",
    "    * CSS: Basic Selectors\n",
    "        * https://developer.mozilla.org/en-US/docs/Learn/CSS/Styling_text/Fundamentals\n",
    "* __kable()__: for nicer tables\n",
    "        "
   ]
  }
 ],
 "metadata": {
  "kernelspec": {
   "display_name": "R",
   "language": "R",
   "name": "ir"
  },
  "language_info": {
   "codemirror_mode": "r",
   "file_extension": ".r",
   "mimetype": "text/x-r-source",
   "name": "R",
   "pygments_lexer": "r",
   "version": "3.6.1"
  }
 },
 "nbformat": 4,
 "nbformat_minor": 4
}
